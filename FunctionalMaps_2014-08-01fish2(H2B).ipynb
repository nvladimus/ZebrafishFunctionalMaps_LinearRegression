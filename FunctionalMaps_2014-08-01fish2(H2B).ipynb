{
 "cells": [
  {
   "cell_type": "code",
   "execution_count": 1,
   "metadata": {
    "collapsed": false
   },
   "outputs": [],
   "source": [
    "# Thunder-related libraries, for image processing\n",
    "import thunder as td\n",
    "from registration import CrossCorr\n",
    "from regression import FastLinearRegression"
   ]
  },
  {
   "cell_type": "code",
   "execution_count": 2,
   "metadata": {
    "collapsed": true
   },
   "outputs": [],
   "source": [
    "sparkOn = False # set True if Spark is installed and used as computation engine (on a cluster). \n",
    "                # set False if running the code in local mode\n",
    "\n",
    "tifFormat = True #True if images are TIFF files\n",
    "                #False if images in binary stack format (set correct dimensions for import) "
   ]
  },
  {
   "cell_type": "code",
   "execution_count": 3,
   "metadata": {
    "collapsed": false
   },
   "outputs": [],
   "source": [
    "# all other libraries\n",
    "import numpy as np \n",
    "import matplotlib.pyplot as plt\n",
    "%matplotlib inline\n",
    "import sys\n",
    "sys.path.append('./lib')\n",
    "if sparkOn: \n",
    "    sc.addPyFile('./lib/compress.py') \n",
    "import importEphys as ime\n",
    "import conv as conv\n",
    "import compress as compress\n",
    "from skimage.external import tifffile\n",
    "import time\n",
    "import glob, os"
   ]
  },
  {
   "cell_type": "markdown",
   "metadata": {},
   "source": [
    "Unzip `2014-08-01fish2_H2B/raw.zip` file before running the code."
   ]
  },
  {
   "cell_type": "code",
   "execution_count": 4,
   "metadata": {
    "collapsed": false
   },
   "outputs": [],
   "source": [
    "# Set up YOUR data directory\n",
    "expDir = 'C:/Users/user/Documents/ZebrafishFunctionalMaps_LinearRegression/2014-08-01fish2_H2B/'\n",
    "rawDir = expDir + 'raw/' #storage of an imaging/behavior session\n",
    "procDir = expDir + 'proc/' #storage for processed data (functinal maps)\n",
    "fName = 'ephys.10ch'\n",
    "if not os.path.exists(procDir):\n",
    "        os.mkdir(procDir)"
   ]
  },
  {
   "cell_type": "code",
   "execution_count": 5,
   "metadata": {
    "collapsed": false
   },
   "outputs": [],
   "source": [
    "# if using Spark, uncompress the imaging data from BZ2 files in parallel mode\n",
    "if sparkOn: \n",
    "    fileList = glob.glob(rawDir + 'TM*.stack.bz2')\n",
    "    sc.parallelize(fileList).foreach(compress.bz2uncompressStack)"
   ]
  },
  {
   "cell_type": "markdown",
   "metadata": {},
   "source": [
    "### Parse behavior file"
   ]
  },
  {
   "cell_type": "code",
   "execution_count": 13,
   "metadata": {
    "collapsed": false
   },
   "outputs": [],
   "source": [
    "# read the behavior data\n",
    "ephys = ime.import10ch(rawDir + fName)\n",
    "stackInitInd = ime.stackInits(ephys)\n",
    "drift = np.squeeze(ephys['drift'][stackInitInd])\n",
    "Fdrift = np.zeros(drift.shape)\n",
    "Bdrift = np.zeros(drift.shape)\n",
    "FdriftInd = np.where(drift>0)[0]\n",
    "BdriftInd = np.where(drift<0)[0]\n",
    "Fdrift[FdriftInd] = drift[FdriftInd]\n",
    "Bdrift[BdriftInd] = -drift[BdriftInd]\n",
    "# separate behavior during Foward, Backward, and No drift conditions\n",
    "drift6K = np.squeeze(ephys['drift'][:]) #6K because ephys sample rate is 6KHz\n",
    "FdriftInd6K = np.where(drift6K>0)[0]\n",
    "BdriftInd6K = np.where(drift6K<0)[0]\n",
    "NoDriftInd6K = np.where(drift6K==0)[0]\n",
    "\n",
    "ch0Forw = np.zeros(ephys['fltCh0'][:].shape)\n",
    "ch1Forw = np.zeros(ch0Forw.shape)\n",
    "ch0Backw = np.zeros(ch0Forw.shape)\n",
    "ch1Backw = np.zeros(ch0Forw.shape)\n",
    "ch0NoDrift = np.zeros(ch0Forw.shape)\n",
    "ch1NoDrift = np.zeros(ch0Forw.shape)\n",
    "\n",
    "# fill channels with default values, using 50% percentile\n",
    "ch0Forw[:] = np.percentile(ephys['fltCh0'][:],50)\n",
    "ch0Backw = ch0Forw.copy()\n",
    "ch0NoDrift = ch0Forw.copy()\n",
    "ch1Forw[:] = np.percentile(ephys['fltCh1'][:],50)\n",
    "ch1Backw = ch1Forw.copy()\n",
    "ch1NoDrift = ch1Forw.copy()\n",
    "\n",
    "# fill the rest with actual filtere signal\n",
    "ch0Forw[FdriftInd6K] = ephys['fltCh0'][FdriftInd6K]\n",
    "ch0Backw[BdriftInd6K] = ephys['fltCh0'][BdriftInd6K]\n",
    "ch0NoDrift[NoDriftInd6K] = ephys['fltCh0'][NoDriftInd6K]\n",
    "\n",
    "ch1Forw[FdriftInd6K] = ephys['fltCh1'][FdriftInd6K]\n",
    "ch1Backw[BdriftInd6K] = ephys['fltCh1'][BdriftInd6K]\n",
    "ch1NoDrift[NoDriftInd6K] = ephys['fltCh1'][NoDriftInd6K]"
   ]
  },
  {
   "cell_type": "code",
   "execution_count": 14,
   "metadata": {
    "collapsed": false
   },
   "outputs": [],
   "source": [
    "# Filter the behavior and prepare regressors\n",
    "stackDurations = np.diff(stackInitInd)\n",
    "\n",
    "ch0ForwSubsampled = np.zeros(len(stackInitInd))\n",
    "ch0BackwSubsampled = np.zeros(len(stackInitInd))\n",
    "ch0NoDriftSubsampled = np.zeros(len(stackInitInd))\n",
    "ch1BackwSubsampled = np.zeros(len(stackInitInd))\n",
    "ch1ForwSubsampled = np.zeros(len(stackInitInd))\n",
    "ch1NoDriftSubsampled = np.zeros(len(stackInitInd))\n",
    "\n",
    "\n",
    "for i in range(0,len(stackInitInd)-1):\n",
    "    ch0ForwSubsampled[i] = np.max(ch0Forw[stackInitInd[i]:stackInitInd[i]+stackDurations[i]])\n",
    "    ch0BackwSubsampled[i] = np.max(ch0Backw[stackInitInd[i]:stackInitInd[i]+stackDurations[i]])\n",
    "    ch0NoDriftSubsampled[i] = np.max(ch0NoDrift[stackInitInd[i]:stackInitInd[i]+stackDurations[i]])\n",
    "    ch1ForwSubsampled[i] = np.max(ch1Forw[stackInitInd[i]:stackInitInd[i]+stackDurations[i]])\n",
    "    ch1BackwSubsampled[i] = np.max(ch1Backw[stackInitInd[i]:stackInitInd[i]+stackDurations[i]])\n",
    "    ch1NoDriftSubsampled[i] = np.max(ch1NoDrift[stackInitInd[i]:stackInitInd[i]+stackDurations[i]]) \n",
    "\n",
    "# Adjust the baseline of behavior by clipping between lowest 1% and highest 99%, to avoid spiking artifacts\n",
    "\n",
    "behaviorForw = ch0ForwSubsampled + ch1ForwSubsampled\n",
    "\n",
    "behaviorForwClipped = np.clip(behaviorForw,np.percentile(behaviorForw,1),np.percentile(behaviorForw,99)) - np.percentile(behaviorForw,1)\n",
    "\n",
    "behaviorBackw = ch0BackwSubsampled + ch1BackwSubsampled\n",
    "behaviorBackwClipped = np.clip(behaviorBackw,np.percentile(behaviorBackw,1),\\\n",
    "                               np.percentile(behaviorBackw,99)) - np.percentile(behaviorBackw,1)\n",
    "\n",
    "behaviorNoDrift = ch0NoDriftSubsampled + ch1NoDriftSubsampled\n",
    "behaviorNoDriftClipped = np.clip(behaviorNoDrift,np.percentile(behaviorNoDrift,1),\\\n",
    "                               np.percentile(behaviorNoDrift,99)) - np.percentile(behaviorNoDrift,1)\n",
    "\n",
    "# Convolve the regressors with double-exp kernel\n",
    "tau = 3.0 #decay constant, in stacks\n",
    "tau1 = 1.0 # kinda rise time, must be < tau\n",
    "\n",
    "behaviorForwConv = conv.conv2exp(behaviorForwClipped,tau1,tau)\n",
    "behaviorBackwConv = conv.conv2exp(behaviorBackwClipped,tau1,tau)\n",
    "behaviorNoDriftConv = conv.conv2exp(behaviorNoDriftClipped,tau1,tau)\n",
    "\n",
    "FdriftConv = conv.conv2exp(Fdrift,tau1,tau)\n",
    "BdriftConv = conv.conv2exp(Bdrift,tau1,tau)"
   ]
  },
  {
   "cell_type": "code",
   "execution_count": 15,
   "metadata": {
    "collapsed": false
   },
   "outputs": [
    {
     "data": {
      "text/plain": [
       "(0, 180)"
      ]
     },
     "execution_count": 15,
     "metadata": {},
     "output_type": "execute_result"
    },
    {
     "data": {
      "image/png": "[encoded data removed]",
      "text/plain": [
       "<matplotlib.figure.Figure at 0x8522828>"
      ]
     },
     "metadata": {},
     "output_type": "display_data"
    }
   ],
   "source": [
    "# Optional: plot the regressors\n",
    "plt.figure(figsize=(10,2))\n",
    "plt.plot(ephys['t'][stackInitInd],FdriftConv/FdriftConv.std(),'--g',\\\n",
    "         ephys['t'][stackInitInd],BdriftConv/BdriftConv.std(),'-b',\\\n",
    "         ephys['t'][stackInitInd],behaviorForwConv/behaviorForwConv.std(),'r')\n",
    "plt.xlim(0,180)"
   ]
  },
  {
   "cell_type": "code",
   "execution_count": 10,
   "metadata": {
    "collapsed": false
   },
   "outputs": [],
   "source": [
    "np.save(procDir + 'regressors.npy',np.vstack((behaviorForwConv,FdriftConv,BdriftConv)))"
   ]
  },
  {
   "cell_type": "markdown",
   "metadata": {},
   "source": [
    "## Image processing (requires Thunder)"
   ]
  },
  {
   "cell_type": "code",
   "execution_count": 11,
   "metadata": {
    "collapsed": false
   },
   "outputs": [
    {
     "name": "stdout",
     "output_type": "stream",
     "text": [
      "Taking reference from planes 90 to 100\n"
     ]
    }
   ],
   "source": [
    "dims = (41, 256, 512)\n",
    "numFrames = 100\n",
    "if sparkOn:\n",
    "    # load images using  distributed computing engine Spark \n",
    "    if tifFormat:\n",
    "        dat = td.images.fromtif(rawDir, npartitions=numFrames, engine=sc)\n",
    "    else:\n",
    "        dat = td.images.frombinary(rawDir, shape = dims, ext='tif', npartitions=numFrames, engine=sc)\n",
    "else:\n",
    "    #load images in local context\n",
    "    if tifFormat:\n",
    "        dat = td.images.fromtif(rawDir, npartitions=numFrames)\n",
    "    else:\n",
    "        dat = td.images.frombinary(rawDir, shape = dims, ext='tif', npartitions=numFrames)\n",
    "\n",
    "# length of reference, in frames\n",
    "refLength = 10\n",
    "# reference timerange, last 10 frames\n",
    "refR = np.array([numFrames - refLength,numFrames])\n",
    "# filter parameters\n",
    "filt = {}\n",
    "filt['filter'] = 'median'\n",
    "filt['footprint'] = 3\n",
    "\n",
    "print('Taking reference from planes ' + str(refR[0]) + ' to ' + str(refR[-1]))"
   ]
  },
  {
   "cell_type": "code",
   "execution_count": 12,
   "metadata": {
    "collapsed": false
   },
   "outputs": [
    {
     "data": {
      "text/plain": [
       "<bound method Images.count of Images\n",
       "mode: local\n",
       "dtype: uint16\n",
       "shape: (100L, 41L, 256L, 512L)>"
      ]
     },
     "execution_count": 12,
     "metadata": {},
     "output_type": "execute_result"
    }
   ],
   "source": [
    "dat.count"
   ]
  },
  {
   "cell_type": "markdown",
   "metadata": {},
   "source": [
    "### Run registration using a cropped dataset"
   ]
  },
  {
   "cell_type": "code",
   "execution_count": 13,
   "metadata": {
    "collapsed": false
   },
   "outputs": [],
   "source": [
    "zStart = 10 #starting plane of registration \n",
    "zEnd = 30 #ending plane\n",
    "datCrop = dat[:,zStart:zEnd, :, :] # take sub-stack\n",
    "reference = datCrop[refR[0]:refR[1],:,:,:].mean().toarray()\n",
    "\n",
    "register = CrossCorr(axis = 0) \n",
    "model = register.fit(datCrop.median_filter(3), reference=reference)\n",
    "deltas = model.toarray()\n",
    "\n",
    "# set registration shifts\n",
    "xshift = np.floor(np.median(deltas[:,:,1],axis=1))\n",
    "yshift = np.floor(np.median(deltas[:,:,0],axis=1))\n",
    "\n",
    "for ti in range(len(model.transformations)):\n",
    "    model.transformations[(ti,)].delta = []\n",
    "    for zi in range(dims[0]):\n",
    "        model.transformations[(ti,)].delta.append([yshift[ti],xshift[ti]])\n",
    "        \n",
    "# apply registration parameters to the full data    \n",
    "datRegistered = model.transform(dat)"
   ]
  },
  {
   "cell_type": "code",
   "execution_count": 14,
   "metadata": {
    "collapsed": false
   },
   "outputs": [
    {
     "data": {
      "image/png": "[encoded data removed]",
      "text/plain": [
       "<matplotlib.figure.Figure at 0x89e3a20>"
      ]
     },
     "metadata": {},
     "output_type": "display_data"
    }
   ],
   "source": [
    "#Check XY-drift, Straight lines mean no drift\n",
    "f, axarr = plt.subplots(1, 2,figsize=(15,5))\n",
    "for x in range(deltas.shape[1]):\n",
    "    axarr[0].plot(deltas[:,x,1] + x + zStart)   \n",
    "    axarr[0].set_title('drift along X')\n",
    "    axarr[0].set_ylim(-5,50)\n",
    "    \n",
    "    axarr[1].plot(deltas[:,x,0] + x + zStart)  \n",
    "    axarr[1].set_title('drift along Y')\n",
    "    axarr[1].set_ylim(-5,50)"
   ]
  },
  {
   "cell_type": "markdown",
   "metadata": {},
   "source": [
    "##### Convert to time series"
   ]
  },
  {
   "cell_type": "code",
   "execution_count": 15,
   "metadata": {
    "collapsed": false
   },
   "outputs": [
    {
     "name": "stdout",
     "output_type": "stream",
     "text": [
      "Wall time: 4min 53s\n"
     ]
    }
   ],
   "source": [
    "%%time\n",
    "imSeries = datRegistered.toseries().normalize()\n",
    "imSeries.count()"
   ]
  },
  {
   "cell_type": "markdown",
   "metadata": {},
   "source": [
    "##### Do regression against Motor, Fdrift and Bdrift"
   ]
  },
  {
   "cell_type": "code",
   "execution_count": 16,
   "metadata": {
    "collapsed": false
   },
   "outputs": [
    {
     "data": {
      "text/plain": [
       "(100L, 3L)"
      ]
     },
     "execution_count": 16,
     "metadata": {},
     "output_type": "execute_result"
    }
   ],
   "source": [
    "# Prepare regressors\n",
    "indRange = np.arange(100,200)\n",
    "regressors = np.column_stack((behaviorForwConv[indRange]/behaviorForwConv[indRange].std(),\\\n",
    "    FdriftConv[indRange]/FdriftConv[indRange].std(),\\\n",
    "    BdriftConv[indRange]/BdriftConv[indRange].std()))\n",
    "regressors.shape"
   ]
  },
  {
   "cell_type": "code",
   "execution_count": 17,
   "metadata": {
    "collapsed": false
   },
   "outputs": [
    {
     "name": "stdout",
     "output_type": "stream",
     "text": [
      "Wall time: 10min 5s\n"
     ]
    }
   ],
   "source": [
    "%%time\n",
    "model = FastLinearRegression(fit_intercept=True).fit(regressors, imSeries)\n",
    "results = model.betas_and_scores.toarray()\n",
    "betas, stats = results[:,:,:, 1:4], results[:,:,:, 4]"
   ]
  },
  {
   "cell_type": "code",
   "execution_count": 18,
   "metadata": {
    "collapsed": true
   },
   "outputs": [],
   "source": [
    "# save betas and stats\n",
    "np.save(procDir + 'betas.npy',betas)\n",
    "np.save(procDir + 'stats.npy',stats)"
   ]
  },
  {
   "cell_type": "code",
   "execution_count": 19,
   "metadata": {
    "collapsed": false
   },
   "outputs": [],
   "source": [
    "#Convert (regression coeffs x R2) into weights\n",
    "imMotorForw = (betas[:,:,:,0]*stats)\n",
    "imForw = (betas[:,:,:,1]*stats)\n",
    "imBackw = (betas[:,:,:,2]*stats)"
   ]
  },
  {
   "cell_type": "code",
   "execution_count": 20,
   "metadata": {
    "collapsed": false
   },
   "outputs": [
    {
     "data": {
      "text/plain": [
       "(-0.25, 1)"
      ]
     },
     "execution_count": 20,
     "metadata": {},
     "output_type": "execute_result"
    },
    {
     "data": {
      "image/png": "[encoded data removed]",
      "text/plain": [
       "<matplotlib.figure.Figure at 0x85526a0>"
      ]
     },
     "metadata": {},
     "output_type": "display_data"
    }
   ],
   "source": [
    "# check histograms of weights\n",
    "plt.hist([ imBackw.flatten(), imForw.flatten(), imMotorForw.flatten()],np.arange(-1,1,0.1), log = True, \\\n",
    "               color = ['blue', 'green', 'red'],\\\n",
    "               label=['Backward drift', 'Forward drift', 'Motor during F drift'])\n",
    "plt.legend()\n",
    "plt.xlim([-0.25, 1])"
   ]
  },
  {
   "cell_type": "markdown",
   "metadata": {},
   "source": [
    "##### Adjust gamma and save in RGB image (tiff) files"
   ]
  },
  {
   "cell_type": "code",
   "execution_count": 21,
   "metadata": {
    "collapsed": false
   },
   "outputs": [],
   "source": [
    "# gamma-adjustment, save only positive weights\n",
    "gamma = 0.5\n",
    "imMgamma = np.zeros(imMotorForw.shape)\n",
    "imMgamma[imMotorForw > 0] = imMotorForw[imMotorForw > 0]**gamma\n",
    "\n",
    "imFgamma = np.zeros(imForw.shape)\n",
    "imFgamma[imForw > 0] = imForw[imForw > 0]**gamma\n",
    "\n",
    "imBgamma = np.zeros(imBackw.shape)\n",
    "imBgamma[imBackw > 0] = imBackw[imBackw > 0]**gamma\n",
    "\n",
    "# scaling between refMin and refMax before saving as 8-bit images\n",
    "refMin = 0\n",
    "refMax = 1.0\n",
    "\n",
    "imTiffR = np.clip(imMgamma/refMax*(2**8-1),refMin,2**8-1)\n",
    "tifffile.imsave(procDir + 'motorDuringForw_REDgamma0.5.tif',imTiffR.astype(np.uint8))\n",
    "\n",
    "imTiffG = np.clip(imFgamma/refMax*(2**8-1),refMin,2**8-1)\n",
    "tifffile.imsave(procDir + 'forwDrift_GREENgamma0.5.tif',imTiffG.astype(np.uint8))\n",
    "\n",
    "imTiffB = np.clip(imBgamma/refMax*(2**8-1),refMin,2**8-1)\n",
    "tifffile.imsave(procDir + 'backwDrift_BLUEgamma0.5.tif',imTiffB.astype(np.uint8))\n",
    "\n",
    "compositeTiff = np.array([imTiffR.T, imTiffG.T, imTiffB.T])\n",
    "tifffile.imsave(procDir + 'compositeRGBgamma0.5.tif',compositeTiff.T.astype(np.uint8))"
   ]
  },
  {
   "cell_type": "code",
   "execution_count": 22,
   "metadata": {
    "collapsed": true
   },
   "outputs": [],
   "source": [
    "# save reference anatomy stack\n",
    "refStack = dat[-10:-1,:,:,:].mean().toarray()\n",
    "tifffile.imsave(procDir + 'ref.tif',refStack.astype(np.uint16))"
   ]
  },
  {
   "cell_type": "code",
   "execution_count": null,
   "metadata": {
    "collapsed": true
   },
   "outputs": [],
   "source": []
  }
 ],
 "metadata": {
  "anaconda-cloud": {},
  "kernelspec": {
   "display_name": "Python [default]",
   "language": "python",
   "name": "python2"
  },
  "language_info": {
   "codemirror_mode": {
    "name": "ipython",
    "version": 2
   },
   "file_extension": ".py",
   "mimetype": "text/x-python",
   "name": "python",
   "nbconvert_exporter": "python",
   "pygments_lexer": "ipython2",
   "version": "2.7.12"
  }
 },
 "nbformat": 4,
 "nbformat_minor": 0
}
